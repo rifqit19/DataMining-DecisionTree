{
  "nbformat": 4,
  "nbformat_minor": 0,
  "metadata": {
    "colab": {
      "provenance": []
    },
    "kernelspec": {
      "name": "python3",
      "display_name": "Python 3"
    },
    "language_info": {
      "name": "python"
    }
  },
  "cells": [
    {
      "cell_type": "code",
      "execution_count": 62,
      "metadata": {
        "id": "m78NrLrGHKJi"
      },
      "outputs": [],
      "source": [
        "# import library\n",
        "import numpy as np\n",
        "import pandas as pd\n",
        "from sklearn import tree"
      ]
    },
    {
      "cell_type": "code",
      "source": [
        "# membaca dataset\n",
        "ukaiDataset = pd.read_excel('DatasetUKAI.xlsx', header=0) "
      ],
      "metadata": {
        "id": "O59Ln0C1IUOB"
      },
      "execution_count": 63,
      "outputs": []
    },
    {
      "cell_type": "code",
      "source": [
        "ukaiDataset.head()"
      ],
      "metadata": {
        "colab": {
          "base_uri": "https://localhost:8080/",
          "height": 350
        },
        "id": "I3A2A-RXJIFz",
        "outputId": "4391fca3-6ec3-463e-9fea-de9cfcd075c7"
      },
      "execution_count": 64,
      "outputs": [
        {
          "output_type": "execute_result",
          "data": {
            "text/plain": [
              "   No  NOMOR PESERTA        INSTITUSI             NAMA LENGKAP        NILAI  \\\n",
              "0   1   210333301546  PESERTA MANDIRI           ALl SYAHBUDDlN  DlBAWAH NBL   \n",
              "1   2   210333302485  PESERTA MANDIRI  MUHAMMAD HANlEP PERMANA  DlBAWAH NBL   \n",
              "2   3   210333302688  PESERTA MANDIRI               RlDWANSYAH  DlBAWAH NBL   \n",
              "3   4   210333303995  PESERTA MANDIRI         ANGGA SUHERDlANA  DlBAWAH NBL   \n",
              "4   5   210333304551  PESERTA MANDIRI     DlAS AGl LlA ARDlANA  DlBAWAH NBL   \n",
              "\n",
              "    KESIMPULAN  \n",
              "0  Tidak Lulus  \n",
              "1  Tidak Lulus  \n",
              "2  Tidak Lulus  \n",
              "3  Tidak Lulus  \n",
              "4  Tidak Lulus  "
            ],
            "text/html": [
              "\n",
              "  <div id=\"df-32c0f48b-3d9f-463a-ae3f-62eb9b24114a\">\n",
              "    <div class=\"colab-df-container\">\n",
              "      <div>\n",
              "<style scoped>\n",
              "    .dataframe tbody tr th:only-of-type {\n",
              "        vertical-align: middle;\n",
              "    }\n",
              "\n",
              "    .dataframe tbody tr th {\n",
              "        vertical-align: top;\n",
              "    }\n",
              "\n",
              "    .dataframe thead th {\n",
              "        text-align: right;\n",
              "    }\n",
              "</style>\n",
              "<table border=\"1\" class=\"dataframe\">\n",
              "  <thead>\n",
              "    <tr style=\"text-align: right;\">\n",
              "      <th></th>\n",
              "      <th>No</th>\n",
              "      <th>NOMOR PESERTA</th>\n",
              "      <th>INSTITUSI</th>\n",
              "      <th>NAMA LENGKAP</th>\n",
              "      <th>NILAI</th>\n",
              "      <th>KESIMPULAN</th>\n",
              "    </tr>\n",
              "  </thead>\n",
              "  <tbody>\n",
              "    <tr>\n",
              "      <th>0</th>\n",
              "      <td>1</td>\n",
              "      <td>210333301546</td>\n",
              "      <td>PESERTA MANDIRI</td>\n",
              "      <td>ALl SYAHBUDDlN</td>\n",
              "      <td>DlBAWAH NBL</td>\n",
              "      <td>Tidak Lulus</td>\n",
              "    </tr>\n",
              "    <tr>\n",
              "      <th>1</th>\n",
              "      <td>2</td>\n",
              "      <td>210333302485</td>\n",
              "      <td>PESERTA MANDIRI</td>\n",
              "      <td>MUHAMMAD HANlEP PERMANA</td>\n",
              "      <td>DlBAWAH NBL</td>\n",
              "      <td>Tidak Lulus</td>\n",
              "    </tr>\n",
              "    <tr>\n",
              "      <th>2</th>\n",
              "      <td>3</td>\n",
              "      <td>210333302688</td>\n",
              "      <td>PESERTA MANDIRI</td>\n",
              "      <td>RlDWANSYAH</td>\n",
              "      <td>DlBAWAH NBL</td>\n",
              "      <td>Tidak Lulus</td>\n",
              "    </tr>\n",
              "    <tr>\n",
              "      <th>3</th>\n",
              "      <td>4</td>\n",
              "      <td>210333303995</td>\n",
              "      <td>PESERTA MANDIRI</td>\n",
              "      <td>ANGGA SUHERDlANA</td>\n",
              "      <td>DlBAWAH NBL</td>\n",
              "      <td>Tidak Lulus</td>\n",
              "    </tr>\n",
              "    <tr>\n",
              "      <th>4</th>\n",
              "      <td>5</td>\n",
              "      <td>210333304551</td>\n",
              "      <td>PESERTA MANDIRI</td>\n",
              "      <td>DlAS AGl LlA ARDlANA</td>\n",
              "      <td>DlBAWAH NBL</td>\n",
              "      <td>Tidak Lulus</td>\n",
              "    </tr>\n",
              "  </tbody>\n",
              "</table>\n",
              "</div>\n",
              "      <button class=\"colab-df-convert\" onclick=\"convertToInteractive('df-32c0f48b-3d9f-463a-ae3f-62eb9b24114a')\"\n",
              "              title=\"Convert this dataframe to an interactive table.\"\n",
              "              style=\"display:none;\">\n",
              "        \n",
              "  <svg xmlns=\"http://www.w3.org/2000/svg\" height=\"24px\"viewBox=\"0 0 24 24\"\n",
              "       width=\"24px\">\n",
              "    <path d=\"M0 0h24v24H0V0z\" fill=\"none\"/>\n",
              "    <path d=\"M18.56 5.44l.94 2.06.94-2.06 2.06-.94-2.06-.94-.94-2.06-.94 2.06-2.06.94zm-11 1L8.5 8.5l.94-2.06 2.06-.94-2.06-.94L8.5 2.5l-.94 2.06-2.06.94zm10 10l.94 2.06.94-2.06 2.06-.94-2.06-.94-.94-2.06-.94 2.06-2.06.94z\"/><path d=\"M17.41 7.96l-1.37-1.37c-.4-.4-.92-.59-1.43-.59-.52 0-1.04.2-1.43.59L10.3 9.45l-7.72 7.72c-.78.78-.78 2.05 0 2.83L4 21.41c.39.39.9.59 1.41.59.51 0 1.02-.2 1.41-.59l7.78-7.78 2.81-2.81c.8-.78.8-2.07 0-2.86zM5.41 20L4 18.59l7.72-7.72 1.47 1.35L5.41 20z\"/>\n",
              "  </svg>\n",
              "      </button>\n",
              "      \n",
              "  <style>\n",
              "    .colab-df-container {\n",
              "      display:flex;\n",
              "      flex-wrap:wrap;\n",
              "      gap: 12px;\n",
              "    }\n",
              "\n",
              "    .colab-df-convert {\n",
              "      background-color: #E8F0FE;\n",
              "      border: none;\n",
              "      border-radius: 50%;\n",
              "      cursor: pointer;\n",
              "      display: none;\n",
              "      fill: #1967D2;\n",
              "      height: 32px;\n",
              "      padding: 0 0 0 0;\n",
              "      width: 32px;\n",
              "    }\n",
              "\n",
              "    .colab-df-convert:hover {\n",
              "      background-color: #E2EBFA;\n",
              "      box-shadow: 0px 1px 2px rgba(60, 64, 67, 0.3), 0px 1px 3px 1px rgba(60, 64, 67, 0.15);\n",
              "      fill: #174EA6;\n",
              "    }\n",
              "\n",
              "    [theme=dark] .colab-df-convert {\n",
              "      background-color: #3B4455;\n",
              "      fill: #D2E3FC;\n",
              "    }\n",
              "\n",
              "    [theme=dark] .colab-df-convert:hover {\n",
              "      background-color: #434B5C;\n",
              "      box-shadow: 0px 1px 3px 1px rgba(0, 0, 0, 0.15);\n",
              "      filter: drop-shadow(0px 1px 2px rgba(0, 0, 0, 0.3));\n",
              "      fill: #FFFFFF;\n",
              "    }\n",
              "  </style>\n",
              "\n",
              "      <script>\n",
              "        const buttonEl =\n",
              "          document.querySelector('#df-32c0f48b-3d9f-463a-ae3f-62eb9b24114a button.colab-df-convert');\n",
              "        buttonEl.style.display =\n",
              "          google.colab.kernel.accessAllowed ? 'block' : 'none';\n",
              "\n",
              "        async function convertToInteractive(key) {\n",
              "          const element = document.querySelector('#df-32c0f48b-3d9f-463a-ae3f-62eb9b24114a');\n",
              "          const dataTable =\n",
              "            await google.colab.kernel.invokeFunction('convertToInteractive',\n",
              "                                                     [key], {});\n",
              "          if (!dataTable) return;\n",
              "\n",
              "          const docLinkHtml = 'Like what you see? Visit the ' +\n",
              "            '<a target=\"_blank\" href=https://colab.research.google.com/notebooks/data_table.ipynb>data table notebook</a>'\n",
              "            + ' to learn more about interactive tables.';\n",
              "          element.innerHTML = '';\n",
              "          dataTable['output_type'] = 'display_data';\n",
              "          await google.colab.output.renderOutput(dataTable, element);\n",
              "          const docLink = document.createElement('div');\n",
              "          docLink.innerHTML = docLinkHtml;\n",
              "          element.appendChild(docLink);\n",
              "        }\n",
              "      </script>\n",
              "    </div>\n",
              "  </div>\n",
              "  "
            ]
          },
          "metadata": {},
          "execution_count": 64
        }
      ]
    },
    {
      "cell_type": "code",
      "source": [
        "# mengubah kelas (kolom) dari string ke unique-Integer\n",
        "ukaiDataset[\"KESIMPULAN\"] = pd.factorize(ukaiDataset.KESIMPULAN)[0]"
      ],
      "metadata": {
        "id": "7pWiOBkWIzgs"
      },
      "execution_count": 65,
      "outputs": []
    },
    {
      "cell_type": "code",
      "source": [
        "# mengubah kelas (INSTITUSI) dari string ke unique-Integer\n",
        "ukaiDataset[\"INSTITUSI\"] = pd.factorize(ukaiDataset.INSTITUSI)[0]"
      ],
      "metadata": {
        "id": "eCWJtiRPN_8a"
      },
      "execution_count": 66,
      "outputs": []
    },
    {
      "cell_type": "code",
      "source": [
        "# mengubah kelas (NILAI) dari string ke unique-Integer\n",
        "ukaiDataset[\"NILAI\"] = pd.factorize(ukaiDataset.NILAI)[0]"
      ],
      "metadata": {
        "id": "PbUp5A7ROpiC"
      },
      "execution_count": 67,
      "outputs": []
    },
    {
      "cell_type": "code",
      "source": [
        "ukaiDataset.head()"
      ],
      "metadata": {
        "colab": {
          "base_uri": "https://localhost:8080/",
          "height": 282
        },
        "id": "zr-lHawRJmXf",
        "outputId": "d615d88c-8d4f-415e-a80a-504e2bef5e70"
      },
      "execution_count": 68,
      "outputs": [
        {
          "output_type": "execute_result",
          "data": {
            "text/plain": [
              "   No  NOMOR PESERTA  INSTITUSI             NAMA LENGKAP  NILAI  KESIMPULAN\n",
              "0   1   210333301546          0           ALl SYAHBUDDlN      0           0\n",
              "1   2   210333302485          0  MUHAMMAD HANlEP PERMANA      0           0\n",
              "2   3   210333302688          0               RlDWANSYAH      0           0\n",
              "3   4   210333303995          0         ANGGA SUHERDlANA      0           0\n",
              "4   5   210333304551          0     DlAS AGl LlA ARDlANA      0           0"
            ],
            "text/html": [
              "\n",
              "  <div id=\"df-971e7fae-5017-4e24-88c8-a2221972be93\">\n",
              "    <div class=\"colab-df-container\">\n",
              "      <div>\n",
              "<style scoped>\n",
              "    .dataframe tbody tr th:only-of-type {\n",
              "        vertical-align: middle;\n",
              "    }\n",
              "\n",
              "    .dataframe tbody tr th {\n",
              "        vertical-align: top;\n",
              "    }\n",
              "\n",
              "    .dataframe thead th {\n",
              "        text-align: right;\n",
              "    }\n",
              "</style>\n",
              "<table border=\"1\" class=\"dataframe\">\n",
              "  <thead>\n",
              "    <tr style=\"text-align: right;\">\n",
              "      <th></th>\n",
              "      <th>No</th>\n",
              "      <th>NOMOR PESERTA</th>\n",
              "      <th>INSTITUSI</th>\n",
              "      <th>NAMA LENGKAP</th>\n",
              "      <th>NILAI</th>\n",
              "      <th>KESIMPULAN</th>\n",
              "    </tr>\n",
              "  </thead>\n",
              "  <tbody>\n",
              "    <tr>\n",
              "      <th>0</th>\n",
              "      <td>1</td>\n",
              "      <td>210333301546</td>\n",
              "      <td>0</td>\n",
              "      <td>ALl SYAHBUDDlN</td>\n",
              "      <td>0</td>\n",
              "      <td>0</td>\n",
              "    </tr>\n",
              "    <tr>\n",
              "      <th>1</th>\n",
              "      <td>2</td>\n",
              "      <td>210333302485</td>\n",
              "      <td>0</td>\n",
              "      <td>MUHAMMAD HANlEP PERMANA</td>\n",
              "      <td>0</td>\n",
              "      <td>0</td>\n",
              "    </tr>\n",
              "    <tr>\n",
              "      <th>2</th>\n",
              "      <td>3</td>\n",
              "      <td>210333302688</td>\n",
              "      <td>0</td>\n",
              "      <td>RlDWANSYAH</td>\n",
              "      <td>0</td>\n",
              "      <td>0</td>\n",
              "    </tr>\n",
              "    <tr>\n",
              "      <th>3</th>\n",
              "      <td>4</td>\n",
              "      <td>210333303995</td>\n",
              "      <td>0</td>\n",
              "      <td>ANGGA SUHERDlANA</td>\n",
              "      <td>0</td>\n",
              "      <td>0</td>\n",
              "    </tr>\n",
              "    <tr>\n",
              "      <th>4</th>\n",
              "      <td>5</td>\n",
              "      <td>210333304551</td>\n",
              "      <td>0</td>\n",
              "      <td>DlAS AGl LlA ARDlANA</td>\n",
              "      <td>0</td>\n",
              "      <td>0</td>\n",
              "    </tr>\n",
              "  </tbody>\n",
              "</table>\n",
              "</div>\n",
              "      <button class=\"colab-df-convert\" onclick=\"convertToInteractive('df-971e7fae-5017-4e24-88c8-a2221972be93')\"\n",
              "              title=\"Convert this dataframe to an interactive table.\"\n",
              "              style=\"display:none;\">\n",
              "        \n",
              "  <svg xmlns=\"http://www.w3.org/2000/svg\" height=\"24px\"viewBox=\"0 0 24 24\"\n",
              "       width=\"24px\">\n",
              "    <path d=\"M0 0h24v24H0V0z\" fill=\"none\"/>\n",
              "    <path d=\"M18.56 5.44l.94 2.06.94-2.06 2.06-.94-2.06-.94-.94-2.06-.94 2.06-2.06.94zm-11 1L8.5 8.5l.94-2.06 2.06-.94-2.06-.94L8.5 2.5l-.94 2.06-2.06.94zm10 10l.94 2.06.94-2.06 2.06-.94-2.06-.94-.94-2.06-.94 2.06-2.06.94z\"/><path d=\"M17.41 7.96l-1.37-1.37c-.4-.4-.92-.59-1.43-.59-.52 0-1.04.2-1.43.59L10.3 9.45l-7.72 7.72c-.78.78-.78 2.05 0 2.83L4 21.41c.39.39.9.59 1.41.59.51 0 1.02-.2 1.41-.59l7.78-7.78 2.81-2.81c.8-.78.8-2.07 0-2.86zM5.41 20L4 18.59l7.72-7.72 1.47 1.35L5.41 20z\"/>\n",
              "  </svg>\n",
              "      </button>\n",
              "      \n",
              "  <style>\n",
              "    .colab-df-container {\n",
              "      display:flex;\n",
              "      flex-wrap:wrap;\n",
              "      gap: 12px;\n",
              "    }\n",
              "\n",
              "    .colab-df-convert {\n",
              "      background-color: #E8F0FE;\n",
              "      border: none;\n",
              "      border-radius: 50%;\n",
              "      cursor: pointer;\n",
              "      display: none;\n",
              "      fill: #1967D2;\n",
              "      height: 32px;\n",
              "      padding: 0 0 0 0;\n",
              "      width: 32px;\n",
              "    }\n",
              "\n",
              "    .colab-df-convert:hover {\n",
              "      background-color: #E2EBFA;\n",
              "      box-shadow: 0px 1px 2px rgba(60, 64, 67, 0.3), 0px 1px 3px 1px rgba(60, 64, 67, 0.15);\n",
              "      fill: #174EA6;\n",
              "    }\n",
              "\n",
              "    [theme=dark] .colab-df-convert {\n",
              "      background-color: #3B4455;\n",
              "      fill: #D2E3FC;\n",
              "    }\n",
              "\n",
              "    [theme=dark] .colab-df-convert:hover {\n",
              "      background-color: #434B5C;\n",
              "      box-shadow: 0px 1px 3px 1px rgba(0, 0, 0, 0.15);\n",
              "      filter: drop-shadow(0px 1px 2px rgba(0, 0, 0, 0.3));\n",
              "      fill: #FFFFFF;\n",
              "    }\n",
              "  </style>\n",
              "\n",
              "      <script>\n",
              "        const buttonEl =\n",
              "          document.querySelector('#df-971e7fae-5017-4e24-88c8-a2221972be93 button.colab-df-convert');\n",
              "        buttonEl.style.display =\n",
              "          google.colab.kernel.accessAllowed ? 'block' : 'none';\n",
              "\n",
              "        async function convertToInteractive(key) {\n",
              "          const element = document.querySelector('#df-971e7fae-5017-4e24-88c8-a2221972be93');\n",
              "          const dataTable =\n",
              "            await google.colab.kernel.invokeFunction('convertToInteractive',\n",
              "                                                     [key], {});\n",
              "          if (!dataTable) return;\n",
              "\n",
              "          const docLinkHtml = 'Like what you see? Visit the ' +\n",
              "            '<a target=\"_blank\" href=https://colab.research.google.com/notebooks/data_table.ipynb>data table notebook</a>'\n",
              "            + ' to learn more about interactive tables.';\n",
              "          element.innerHTML = '';\n",
              "          dataTable['output_type'] = 'display_data';\n",
              "          await google.colab.output.renderOutput(dataTable, element);\n",
              "          const docLink = document.createElement('div');\n",
              "          docLink.innerHTML = docLinkHtml;\n",
              "          element.appendChild(docLink);\n",
              "        }\n",
              "      </script>\n",
              "    </div>\n",
              "  </div>\n",
              "  "
            ]
          },
          "metadata": {},
          "execution_count": 68
        }
      ]
    },
    {
      "cell_type": "code",
      "source": [
        "print(ukaiDataset)"
      ],
      "metadata": {
        "colab": {
          "base_uri": "https://localhost:8080/"
        },
        "id": "0u2VbUK1J9jc",
        "outputId": "fb4b188c-37ea-4000-d336-9133e9fefcf3"
      },
      "execution_count": 69,
      "outputs": [
        {
          "output_type": "stream",
          "name": "stdout",
          "text": [
            "      No  NOMOR PESERTA  INSTITUSI              NAMA LENGKAP  NILAI  \\\n",
            "0      1   210333301546          0            ALl SYAHBUDDlN      0   \n",
            "1      2   210333302485          0   MUHAMMAD HANlEP PERMANA      0   \n",
            "2      3   210333302688          0                RlDWANSYAH      0   \n",
            "3      4   210333303995          0          ANGGA SUHERDlANA      0   \n",
            "4      5   210333304551          0      DlAS AGl LlA ARDlANA      0   \n",
            "..   ...            ...        ...                       ...    ...   \n",
            "317  318   210501904845          1       SHlNTA DAMA APRYANl      1   \n",
            "318  319   210501904846          1       MUHAMMAD SYAMSUDDlN      0   \n",
            "319  320   210501904848          1           SONTA TUMANGGOR      0   \n",
            "320  321   210501904850          1              llS PRlYANTl      0   \n",
            "321  322   210501904880          1  FRANSlSKA VlTA HANDAYANl      0   \n",
            "\n",
            "     KESIMPULAN  \n",
            "0             0  \n",
            "1             0  \n",
            "2             0  \n",
            "3             0  \n",
            "4             0  \n",
            "..          ...  \n",
            "317           1  \n",
            "318           0  \n",
            "319           0  \n",
            "320           0  \n",
            "321           0  \n",
            "\n",
            "[322 rows x 6 columns]\n"
          ]
        }
      ]
    },
    {
      "cell_type": "code",
      "source": [
        "# menghapus kolom \"NOMOR PESERTA\" & \"NAMA LENGKAP\"\n",
        "ukaiDataset = ukaiDataset.drop(labels=\"NOMOR PESERTA\", axis=1)\n",
        "ukaiDataset = ukaiDataset.drop(labels=\"NAMA LENGKAP\", axis=1)"
      ],
      "metadata": {
        "id": "HHJAw5OEKV5c"
      },
      "execution_count": 70,
      "outputs": []
    },
    {
      "cell_type": "code",
      "source": [
        "print(ukaiDataset)"
      ],
      "metadata": {
        "colab": {
          "base_uri": "https://localhost:8080/"
        },
        "id": "bJuCyAfgKjLv",
        "outputId": "2a816e7d-856e-45cc-c450-33e5a898cb06"
      },
      "execution_count": 71,
      "outputs": [
        {
          "output_type": "stream",
          "name": "stdout",
          "text": [
            "      No  INSTITUSI  NILAI  KESIMPULAN\n",
            "0      1          0      0           0\n",
            "1      2          0      0           0\n",
            "2      3          0      0           0\n",
            "3      4          0      0           0\n",
            "4      5          0      0           0\n",
            "..   ...        ...    ...         ...\n",
            "317  318          1      1           1\n",
            "318  319          1      0           0\n",
            "319  320          1      0           0\n",
            "320  321          1      0           0\n",
            "321  322          1      0           0\n",
            "\n",
            "[322 rows x 4 columns]\n"
          ]
        }
      ]
    },
    {
      "cell_type": "code",
      "source": [
        "# mengubah dataframe ke array numpy\n",
        "ukaiDataset = ukaiDataset.to_numpy()"
      ],
      "metadata": {
        "id": "ZggDfk3GKn-L"
      },
      "execution_count": 72,
      "outputs": []
    },
    {
      "cell_type": "code",
      "source": [
        "print(ukaiDataset)"
      ],
      "metadata": {
        "colab": {
          "base_uri": "https://localhost:8080/"
        },
        "id": "iNC9qit3K1Rv",
        "outputId": "95a1734a-1ec0-4458-b7b1-4a84faef6f77"
      },
      "execution_count": 73,
      "outputs": [
        {
          "output_type": "stream",
          "name": "stdout",
          "text": [
            "[[  1   0   0   0]\n",
            " [  2   0   0   0]\n",
            " [  3   0   0   0]\n",
            " ...\n",
            " [320   1   0   0]\n",
            " [321   1   0   0]\n",
            " [322   1   0   0]]\n"
          ]
        }
      ]
    },
    {
      "cell_type": "code",
      "source": [
        "# membagi dataset 250 untuk training dan 72 untuk testing\n",
        "dataTraining = np.concatenate((ukaiDataset[0:200, :], ukaiDataset[250:300, :]), axis=0)\n",
        "dataTesting = np.concatenate((ukaiDataset[200:250, :], ukaiDataset[300:322, :]), axis=0)"
      ],
      "metadata": {
        "id": "ZDhI3jgqLXBy"
      },
      "execution_count": 74,
      "outputs": []
    },
    {
      "cell_type": "code",
      "source": [
        "print(dataTraining)\n",
        "len(dataTraining)"
      ],
      "metadata": {
        "colab": {
          "base_uri": "https://localhost:8080/"
        },
        "id": "-DD2S7JxMRqA",
        "outputId": "99013ed9-de3b-48bf-8d3c-dd1c701867a8"
      },
      "execution_count": 75,
      "outputs": [
        {
          "output_type": "stream",
          "name": "stdout",
          "text": [
            "[[  1   0   0   0]\n",
            " [  2   0   0   0]\n",
            " [  3   0   0   0]\n",
            " [  4   0   0   0]\n",
            " [  5   0   0   0]\n",
            " [  6   0   0   0]\n",
            " [  7   0   0   0]\n",
            " [  8   0   0   0]\n",
            " [  9   0   0   0]\n",
            " [ 10   0   0   0]\n",
            " [ 11   1   0   0]\n",
            " [ 12   1   0   0]\n",
            " [ 13   1   1   1]\n",
            " [ 14   1   0   0]\n",
            " [ 15   1   0   0]\n",
            " [ 16   1   1   1]\n",
            " [ 17   1   1   1]\n",
            " [ 18   1   1   1]\n",
            " [ 19   1   0   0]\n",
            " [ 20   1   1   1]\n",
            " [ 21   1   1   1]\n",
            " [ 22   1   0   0]\n",
            " [ 23   1   0   0]\n",
            " [ 24   1   1   1]\n",
            " [ 25   1   0   0]\n",
            " [ 26   1   1   1]\n",
            " [ 27   1   1   1]\n",
            " [ 28   1   1   1]\n",
            " [ 29   1   0   0]\n",
            " [ 30   1   1   1]\n",
            " [ 31   1   0   0]\n",
            " [ 32   1   0   0]\n",
            " [ 33   1   0   0]\n",
            " [ 34   1   1   1]\n",
            " [ 35   1   0   0]\n",
            " [ 36   1   1   1]\n",
            " [ 37   1   0   0]\n",
            " [ 38   1   1   1]\n",
            " [ 39   1   1   1]\n",
            " [ 40   1   1   1]\n",
            " [ 41   1   0   0]\n",
            " [ 42   1   1   1]\n",
            " [ 43   1   1   1]\n",
            " [ 44   1   1   1]\n",
            " [ 45   1   0   0]\n",
            " [ 46   1   1   1]\n",
            " [ 47   1   1   1]\n",
            " [ 48   1   1   1]\n",
            " [ 49   1   1   1]\n",
            " [ 50   1   1   1]\n",
            " [ 51   1   0   0]\n",
            " [ 52   1   1   1]\n",
            " [ 53   1   1   1]\n",
            " [ 54   1   0   0]\n",
            " [ 55   1   1   1]\n",
            " [ 56   1   1   1]\n",
            " [ 57   1   0   0]\n",
            " [ 58   1   1   1]\n",
            " [ 59   1   0   0]\n",
            " [ 60   1   1   1]\n",
            " [ 61   1   0   0]\n",
            " [ 62   1   1   1]\n",
            " [ 63   1   1   1]\n",
            " [ 64   1   1   1]\n",
            " [ 65   1   0   0]\n",
            " [ 66   1   0   0]\n",
            " [ 67   1   1   1]\n",
            " [ 68   1   1   1]\n",
            " [ 69   1   1   1]\n",
            " [ 70   1   1   1]\n",
            " [ 71   1   0   0]\n",
            " [ 72   1   0   0]\n",
            " [ 73   1   1   1]\n",
            " [ 74   1   1   1]\n",
            " [ 75   1   0   0]\n",
            " [ 76   1   1   1]\n",
            " [ 77   1   1   1]\n",
            " [ 78   1   1   1]\n",
            " [ 79   1   1   1]\n",
            " [ 80   1   1   1]\n",
            " [ 81   1   1   1]\n",
            " [ 82   1   0   0]\n",
            " [ 83   1   0   0]\n",
            " [ 84   1   1   1]\n",
            " [ 85   1   0   0]\n",
            " [ 86   1   0   0]\n",
            " [ 87   1   0   0]\n",
            " [ 88   1   0   0]\n",
            " [ 89   1   0   0]\n",
            " [ 90   1   0   0]\n",
            " [ 91   1   0   0]\n",
            " [ 92   1   0   0]\n",
            " [ 93   1   0   0]\n",
            " [ 94   1   0   0]\n",
            " [ 95   1   1   1]\n",
            " [ 96   1   0   0]\n",
            " [ 97   1   0   0]\n",
            " [ 98   1   0   0]\n",
            " [ 99   1   0   0]\n",
            " [100   1   0   0]\n",
            " [101   1   1   1]\n",
            " [102   1   0   0]\n",
            " [103   1   0   0]\n",
            " [104   1   1   1]\n",
            " [105   1   0   0]\n",
            " [106   1   1   1]\n",
            " [107   1   1   1]\n",
            " [108   1   0   0]\n",
            " [109   1   1   1]\n",
            " [110   1   0   0]\n",
            " [111   1   1   1]\n",
            " [112   1   1   1]\n",
            " [113   1   0   0]\n",
            " [114   1   1   1]\n",
            " [115   1   1   1]\n",
            " [116   1   1   1]\n",
            " [117   1   1   1]\n",
            " [118   1   1   1]\n",
            " [119   1   1   1]\n",
            " [120   1   1   1]\n",
            " [121   1   1   1]\n",
            " [122   1   0   0]\n",
            " [123   1   0   0]\n",
            " [124   1   1   1]\n",
            " [125   1   0   0]\n",
            " [126   1   1   1]\n",
            " [127   1   1   1]\n",
            " [128   1   0   0]\n",
            " [129   1   1   1]\n",
            " [130   1   0   0]\n",
            " [131   1   1   1]\n",
            " [132   1   0   0]\n",
            " [133   1   1   1]\n",
            " [134   1   1   1]\n",
            " [135   1   1   1]\n",
            " [136   1   1   1]\n",
            " [137   1   0   0]\n",
            " [138   1   1   1]\n",
            " [139   1   1   1]\n",
            " [140   1   1   1]\n",
            " [141   1   0   0]\n",
            " [142   1   1   1]\n",
            " [143   1   1   1]\n",
            " [144   1   1   1]\n",
            " [145   1   0   0]\n",
            " [146   1   0   0]\n",
            " [147   1   1   1]\n",
            " [148   1   0   0]\n",
            " [149   1   1   1]\n",
            " [150   1   0   0]\n",
            " [151   1   1   1]\n",
            " [152   1   0   0]\n",
            " [153   1   1   1]\n",
            " [154   1   0   0]\n",
            " [155   1   0   0]\n",
            " [156   1   1   1]\n",
            " [157   1   0   0]\n",
            " [158   1   1   1]\n",
            " [159   1   1   1]\n",
            " [160   1   1   1]\n",
            " [161   1   1   1]\n",
            " [162   1   1   1]\n",
            " [163   1   0   0]\n",
            " [164   1   0   0]\n",
            " [165   1   1   1]\n",
            " [166   1   1   1]\n",
            " [167   1   0   0]\n",
            " [168   1   0   0]\n",
            " [169   1   1   1]\n",
            " [170   1   1   1]\n",
            " [171   1   1   1]\n",
            " [172   1   1   1]\n",
            " [173   1   1   1]\n",
            " [174   1   0   0]\n",
            " [175   1   0   0]\n",
            " [176   1   1   1]\n",
            " [177   1   0   0]\n",
            " [178   1   0   0]\n",
            " [179   1   0   0]\n",
            " [180   1   1   1]\n",
            " [181   1   0   0]\n",
            " [182   1   0   0]\n",
            " [183   1   0   0]\n",
            " [184   1   1   1]\n",
            " [185   1   1   1]\n",
            " [186   1   0   0]\n",
            " [187   1   1   1]\n",
            " [188   1   1   1]\n",
            " [189   1   1   1]\n",
            " [190   1   0   0]\n",
            " [191   1   1   1]\n",
            " [192   1   0   0]\n",
            " [193   1   0   0]\n",
            " [194   1   0   0]\n",
            " [195   1   0   0]\n",
            " [196   1   0   0]\n",
            " [197   1   0   0]\n",
            " [198   1   1   1]\n",
            " [199   1   0   0]\n",
            " [200   1   1   1]\n",
            " [251   1   1   1]\n",
            " [252   1   1   1]\n",
            " [253   1   1   1]\n",
            " [254   1   0   0]\n",
            " [255   1   0   0]\n",
            " [256   1   0   0]\n",
            " [257   1   0   0]\n",
            " [258   1   0   0]\n",
            " [259   1   1   1]\n",
            " [260   1   0   0]\n",
            " [261   1   1   1]\n",
            " [262   1   0   0]\n",
            " [263   1   1   1]\n",
            " [264   1   0   0]\n",
            " [265   1   1   1]\n",
            " [266   1   0   0]\n",
            " [267   1   1   1]\n",
            " [268   1   1   1]\n",
            " [269   1   1   1]\n",
            " [270   1   1   1]\n",
            " [271   1   0   0]\n",
            " [272   1   0   0]\n",
            " [273   1   0   0]\n",
            " [274   1   0   0]\n",
            " [275   1   0   0]\n",
            " [276   1   0   0]\n",
            " [277   1   0   0]\n",
            " [278   1   0   0]\n",
            " [279   1   0   0]\n",
            " [280   1   0   0]\n",
            " [281   1   0   0]\n",
            " [282   1   0   0]\n",
            " [283   1   1   1]\n",
            " [284   1   1   1]\n",
            " [285   1   0   0]\n",
            " [286   1   1   1]\n",
            " [287   1   0   0]\n",
            " [288   1   0   0]\n",
            " [289   1   1   1]\n",
            " [290   1   0   0]\n",
            " [291   1   1   1]\n",
            " [292   1   0   0]\n",
            " [293   1   0   0]\n",
            " [294   1   0   0]\n",
            " [295   1   0   0]\n",
            " [296   1   0   0]\n",
            " [297   1   0   0]\n",
            " [298   1   0   0]\n",
            " [299   1   1   1]\n",
            " [300   1   1   1]]\n"
          ]
        },
        {
          "output_type": "execute_result",
          "data": {
            "text/plain": [
              "250"
            ]
          },
          "metadata": {},
          "execution_count": 75
        }
      ]
    },
    {
      "cell_type": "code",
      "source": [
        "# memecah dataset ke input dan label\n",
        "inputTraining = dataTraining[:, 0:3]\n",
        "inputTesting = dataTesting[:, 0:3]\n",
        "labelTraining = dataTraining[:, 3]\n",
        "labelTesting = dataTesting[:, 3]\n",
        "print(labelTesting)\n",
        "len(labelTesting)"
      ],
      "metadata": {
        "colab": {
          "base_uri": "https://localhost:8080/"
        },
        "id": "pW4iCAq3NMTK",
        "outputId": "a2ad1546-bc89-4cc9-8ff1-b6a26b5321d7"
      },
      "execution_count": 77,
      "outputs": [
        {
          "output_type": "stream",
          "name": "stdout",
          "text": [
            "[1 1 0 0 0 0 1 1 1 1 1 0 1 1 1 0 0 0 0 0 0 0 0 0 1 0 0 0 1 1 1 0 0 0 0 1 1\n",
            " 0 0 0 1 0 0 0 1 1 0 1 0 0 1 0 1 1 0 1 1 1 1 0 1 1 0 0 0 0 1 1 0 0 0 0]\n"
          ]
        },
        {
          "output_type": "execute_result",
          "data": {
            "text/plain": [
              "72"
            ]
          },
          "metadata": {},
          "execution_count": 77
        }
      ]
    },
    {
      "cell_type": "code",
      "source": [
        "# mendefinisikan decision tree classifier\n",
        "model = tree.DecisionTreeClassifier()"
      ],
      "metadata": {
        "id": "S8nMmWUWM2H1"
      },
      "execution_count": 78,
      "outputs": []
    },
    {
      "cell_type": "code",
      "source": [
        "# mentraining model\n",
        "model = model.fit(inputTraining, labelTraining)"
      ],
      "metadata": {
        "id": "wQVAVwDZNzEH"
      },
      "execution_count": 79,
      "outputs": []
    },
    {
      "cell_type": "code",
      "source": [
        "# memprediksi input data testing\n",
        "hasilPrediksi = model.predict(inputTesting)\n",
        "print(\"Label Sebenarnya : \", labelTesting)\n",
        "print(\"Hasil Prediksi : \", hasilPrediksi)"
      ],
      "metadata": {
        "colab": {
          "base_uri": "https://localhost:8080/"
        },
        "id": "L5zFpyiTPr0u",
        "outputId": "d99731a7-ffa8-4a72-e7a7-409b5bde53ae"
      },
      "execution_count": 80,
      "outputs": [
        {
          "output_type": "stream",
          "name": "stdout",
          "text": [
            "Label Sebenarnya :  [1 1 0 0 0 0 1 1 1 1 1 0 1 1 1 0 0 0 0 0 0 0 0 0 1 0 0 0 1 1 1 0 0 0 0 1 1\n",
            " 0 0 0 1 0 0 0 1 1 0 1 0 0 1 0 1 1 0 1 1 1 1 0 1 1 0 0 0 0 1 1 0 0 0 0]\n",
            "Hasil Prediksi :  [1 1 0 0 0 0 1 1 1 1 1 0 1 1 1 0 0 0 0 0 0 0 0 0 1 0 0 0 1 1 1 0 0 0 0 1 1\n",
            " 0 0 0 1 0 0 0 1 1 0 1 0 0 1 0 1 1 0 1 1 1 1 0 1 1 0 0 0 0 1 1 0 0 0 0]\n"
          ]
        }
      ]
    },
    {
      "cell_type": "code",
      "source": [
        "# menghitung akurasi\n",
        "prediksiBenar = (hasilPrediksi == labelTesting).sum()\n",
        "prediksiSalah = (hasilPrediksi != labelTesting).sum()\n",
        "print(\"Prediksi Benar :\", prediksiBenar, \" data\")\n",
        "print(\"Prediksi Salah :\", prediksiSalah, \" data\")\n",
        "print(\"Akurasi :\", prediksiBenar/(prediksiBenar+prediksiSalah) * 100, \" %\")"
      ],
      "metadata": {
        "colab": {
          "base_uri": "https://localhost:8080/"
        },
        "id": "RtzvKZrSQDtI",
        "outputId": "b73e2ae9-4a08-4f86-eaad-880a71011b5d"
      },
      "execution_count": 81,
      "outputs": [
        {
          "output_type": "stream",
          "name": "stdout",
          "text": [
            "Prediksi Benar : 72  data\n",
            "Prediksi Salah : 0  data\n",
            "Akurasi : 100.0  %\n"
          ]
        }
      ]
    },
    {
      "cell_type": "code",
      "source": [
        "import pydotplus\n",
        "from sklearn import tree\n",
        "dot_data = tree.export_graphviz(model, out_file=None)\n",
        "from IPython.display import Image\n",
        "graph = pydotplus.graph_from_dot_data(dot_data)\n",
        "Image(graph.create_png())\n",
        "graph.write_png('ukai.png')"
      ],
      "metadata": {
        "colab": {
          "base_uri": "https://localhost:8080/"
        },
        "id": "eMGlj9S6R8Yz",
        "outputId": "54d9d5a5-71e6-45a1-efb4-64039d389c66"
      },
      "execution_count": 85,
      "outputs": [
        {
          "output_type": "execute_result",
          "data": {
            "text/plain": [
              "True"
            ]
          },
          "metadata": {},
          "execution_count": 85
        }
      ]
    }
  ]
}